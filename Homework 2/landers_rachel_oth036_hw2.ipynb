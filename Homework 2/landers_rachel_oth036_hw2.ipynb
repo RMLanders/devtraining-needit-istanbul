{
  "nbformat": 4,
  "nbformat_minor": 0,
  "metadata": {
    "colab": {
      "name": "landers_rachel_oth036_hw2",
      "provenance": [],
      "authorship_tag": "ABX9TyO1p53Ec/ZH0u5Inp1Ias47",
      "include_colab_link": true
    },
    "kernelspec": {
      "name": "python3",
      "display_name": "Python 3"
    }
  },
  "cells": [
    {
      "cell_type": "markdown",
      "metadata": {
        "id": "view-in-github",
        "colab_type": "text"
      },
      "source": [
        "<a href=\"https://colab.research.google.com/github/RMLanders/devtraining-needit-istanbul/blob/master/Homework%202/landers_rachel_oth036_hw2.ipynb\" target=\"_parent\"><img src=\"https://colab.research.google.com/assets/colab-badge.svg\" alt=\"Open In Colab\"/></a>"
      ]
    },
    {
      "cell_type": "code",
      "metadata": {
        "id": "jDUCxQnfE_QS"
      },
      "source": [
        ""
      ],
      "execution_count": null,
      "outputs": []
    }
  ]
}