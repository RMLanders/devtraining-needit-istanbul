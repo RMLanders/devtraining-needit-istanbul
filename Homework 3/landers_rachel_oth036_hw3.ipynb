{
  "nbformat": 4,
  "nbformat_minor": 0,
  "metadata": {
    "colab": {
      "name": "landers_rachel_oth036_hw3",
      "provenance": [],
      "collapsed_sections": [],
      "authorship_tag": "ABX9TyPBCnOSmgjj87oUvbDABEE8",
      "include_colab_link": true
    },
    "kernelspec": {
      "name": "python3",
      "display_name": "Python 3"
    },
    "accelerator": "GPU"
  },
  "cells": [
    {
      "cell_type": "markdown",
      "metadata": {
        "id": "view-in-github",
        "colab_type": "text"
      },
      "source": [
        "<a href=\"https://colab.research.google.com/github/RMLanders/devtraining-needit-istanbul/blob/master/Homework%203/landers_rachel_oth036_hw3.ipynb\" target=\"_parent\"><img src=\"https://colab.research.google.com/assets/colab-badge.svg\" alt=\"Open In Colab\"/></a>"
      ]
    },
    {
      "cell_type": "markdown",
      "metadata": {
        "id": "KVipspZCvQeE"
      },
      "source": [
        "# Homework 3 - IS6733\n",
        "## Rachel Landers \n",
        "OTH036\n",
        "\n",
        "https://colab.research.google.com/drive/15bgdzm_EwWouoU_nZpB4EtHOIU8gcGsx?usp=sharing"
      ]
    },
    {
      "cell_type": "code",
      "metadata": {
        "id": "idgl9KF4cUAU"
      },
      "source": [
        "import tensorflow as tf\n",
        "from tensorflow import keras\n",
        "import pandas as pd\n",
        "from tensorflow.keras.datasets import imdb\n",
        "import numpy as np\n",
        "from tensorflow.keras import models\n",
        "from tensorflow.keras import layers\n",
        "from sklearn.model_selection import train_test_split \n",
        "from sklearn.preprocessing import StandardScaler\n",
        "import matplotlib.pyplot as plt\n",
        "from tensorflow.keras import optimizers\n",
        "from tensorflow.keras import losses\n",
        "from tensorflow.keras import metrics"
      ],
      "execution_count": null,
      "outputs": []
    },
    {
      "cell_type": "markdown",
      "metadata": {
        "id": "kmAxeX3Bb_IM"
      },
      "source": [
        "# Part 1\n",
        "P1 (40pt):In the “Classifying movie reviews” example explained in Lecture 6, do the following experiments to see the new results(accuracy, loss, and training time)and summarize your observations. For simplicity, you can just always use the lecture example as the starting point when solving each subproblem. There is no need to change the parameters of each subproblem simultaneously.\n"
      ]
    },
    {
      "cell_type": "code",
      "metadata": {
        "id": "hoQTYXrRcY5d"
      },
      "source": [
        "(train_data, train_labels), (test_data, test_labels) = imdb.load_data(num_words=10000)"
      ],
      "execution_count": null,
      "outputs": []
    },
    {
      "cell_type": "code",
      "metadata": {
        "id": "HvyrDxKQcsGQ"
      },
      "source": [
        "def vectorize_sequences(sequences, dimension=10000):\n",
        "    # Create an all-zero matrix of shape (len(sequences), dimension)\n",
        "    results = np.zeros((len(sequences), dimension))\n",
        "    for i, sequence in enumerate(sequences):\n",
        "        results[i, sequence] = 1.  # set specific indices of results[i] to 1s\n",
        "    return results\n",
        "\n",
        "# Our vectorized training data\n",
        "x_train = vectorize_sequences(train_data)\n",
        "# Our vectorized test data\n",
        "x_test = vectorize_sequences(test_data)"
      ],
      "execution_count": null,
      "outputs": []
    },
    {
      "cell_type": "code",
      "metadata": {
        "id": "vt9bJjAFcukG"
      },
      "source": [
        "# Our vectorized labels\n",
        "y_train = np.asarray(train_labels).astype('float32')\n",
        "y_test = np.asarray(test_labels).astype('float32')"
      ],
      "execution_count": null,
      "outputs": []
    },
    {
      "cell_type": "code",
      "metadata": {
        "id": "5r4dA4F4dCBX"
      },
      "source": [
        "x_val = x_train[:10000]\n",
        "partial_x_train = x_train[10000:]\n",
        "\n",
        "y_val = y_train[:10000]\n",
        "partial_y_train = y_train[10000:]"
      ],
      "execution_count": null,
      "outputs": []
    },
    {
      "cell_type": "code",
      "metadata": {
        "id": "IIWeph9iJEcn"
      },
      "source": [
        "verbosity = 0\n",
        "num_epochs = 4"
      ],
      "execution_count": null,
      "outputs": []
    },
    {
      "cell_type": "code",
      "metadata": {
        "id": "GP4SjZoZKTNx"
      },
      "source": [
        "def plot_histories(history):\n",
        "  acc = history.history['binary_accuracy']\n",
        "  val_acc = history.history['val_binary_accuracy']\n",
        "  loss = history.history['loss']\n",
        "  val_loss = history.history['val_loss']\n",
        "\n",
        "  epochs = range(1, len(acc) + 1)\n",
        "  plt.figure()\n",
        "\n",
        "  plt.subplot(121)\n",
        "  # \"bo\" is for \"blue dot\"\n",
        "  plt.plot(epochs, loss, 'bo', label='Training loss')\n",
        "  # b is for \"solid blue line\"\n",
        "  plt.plot(epochs, val_loss, 'b', label='Validation loss')\n",
        "  plt.title('Training and validation loss')\n",
        "  plt.xlabel('Epochs')\n",
        "  plt.ylabel('Loss')\n",
        "  plt.legend()\n",
        "\n",
        "  plt.subplot(122)\n",
        "  plt.plot(epochs, acc, 'bo', label='Training acc')\n",
        "  plt.plot(epochs, val_acc, 'b', label='Validation acc')\n",
        "  plt.title('Training and validation accuracy')\n",
        "  plt.xlabel('Epochs')\n",
        "  plt.ylabel('Accuracy')\n",
        "  plt.legend()\n",
        "\n",
        "  plt.show()"
      ],
      "execution_count": null,
      "outputs": []
    },
    {
      "cell_type": "code",
      "metadata": {
        "id": "G7UoIiWjOmAN"
      },
      "source": [
        "def print_observations(history):\n",
        "  print(\"binary_accuracy argmax is: {}\".format(np.argmax(history.history['binary_accuracy'])))\n",
        "  print(\"val_binary_accuracy is: {}\".format(np.argmax(history.history['val_binary_accuracy'])))"
      ],
      "execution_count": null,
      "outputs": []
    },
    {
      "cell_type": "markdown",
      "metadata": {
        "id": "wfce2SyfcCMU"
      },
      "source": [
        "## 1.1\n",
        "1.Try to use 1 or 3 hidden layers and see how it affects validation and test accuracy.(10pt)"
      ]
    },
    {
      "cell_type": "markdown",
      "metadata": {
        "id": "jk1Hdxx3S59a"
      },
      "source": [
        "**Accuracy**: Both the 3 layer and 1 layer model increased accuracy.\n",
        "\n",
        "**Loss**: Both the 3 layer and 1 layer model decreased loss.\n",
        "\n",
        "**Training** **Time**: All three models hovered around 3 seconds total time though the 1 layer model had the smallest time with 2.96 seconds.\n",
        "\n",
        "**Validation and Test Accuracy**:  Both the base model and the one layer models' validation accuracy peaks at the first epoch.  The three layer model peaks at the second."
      ]
    },
    {
      "cell_type": "markdown",
      "metadata": {
        "id": "KAHxzi33v1UJ"
      },
      "source": [
        "### Base model"
      ]
    },
    {
      "cell_type": "code",
      "metadata": {
        "id": "rNNNLG2KbaXt"
      },
      "source": [
        "# Lecture example\n",
        "model = models.Sequential()\n",
        "model.add(layers.Dense(16, activation='relu', input_shape=(10000,)))\n",
        "model.add(layers.Dense(16, activation='relu'))\n",
        "model.add(layers.Dense(1, activation='sigmoid'))\n",
        "\n",
        "model.compile(optimizer=optimizers.RMSprop(lr=0.001),\n",
        "              loss=losses.binary_crossentropy,\n",
        "              metrics=[metrics.binary_accuracy])"
      ],
      "execution_count": null,
      "outputs": []
    },
    {
      "cell_type": "code",
      "metadata": {
        "colab": {
          "base_uri": "https://localhost:8080/"
        },
        "id": "4epApYm_uy8b",
        "outputId": "3671b0dd-aee1-47a7-88d2-70ffca55e134"
      },
      "source": [
        "%%time\n",
        "history = model.fit(partial_x_train,\n",
        "                    partial_y_train,\n",
        "                    epochs=num_epochs,\n",
        "                    batch_size=512,\n",
        "                    validation_data=(x_val, y_val),\n",
        "                    verbose = verbosity)"
      ],
      "execution_count": null,
      "outputs": [
        {
          "output_type": "stream",
          "text": [
            "CPU times: user 4.09 s, sys: 680 ms, total: 4.77 s\n",
            "Wall time: 3.41 s\n"
          ],
          "name": "stdout"
        }
      ]
    },
    {
      "cell_type": "code",
      "metadata": {
        "colab": {
          "base_uri": "https://localhost:8080/"
        },
        "id": "pClJQxzWu04x",
        "outputId": "08dcbc85-e6b9-4552-e8dd-6d71300486b1"
      },
      "source": [
        "results = model.evaluate(x_test, y_test)\n",
        "print(results)"
      ],
      "execution_count": null,
      "outputs": [
        {
          "output_type": "stream",
          "text": [
            "782/782 [==============================] - 2s 2ms/step - loss: 0.3578 - binary_accuracy: 0.8550\n",
            "[0.3578307330608368, 0.8550400137901306]\n"
          ],
          "name": "stdout"
        }
      ]
    },
    {
      "cell_type": "code",
      "metadata": {
        "colab": {
          "base_uri": "https://localhost:8080/",
          "height": 332
        },
        "id": "3cr0FL_6Kdi0",
        "outputId": "6904fdf0-42b5-4cbb-a733-26bf2d13b143"
      },
      "source": [
        "print_observations(history)\n",
        "plot_histories(history)"
      ],
      "execution_count": null,
      "outputs": [
        {
          "output_type": "stream",
          "text": [
            "binary_accuracy argmax is: 3\n",
            "val_binary_accuracy is: 1\n"
          ],
          "name": "stdout"
        },
        {
          "output_type": "display_data",
          "data": {
            "image/png": "[encoded data removed]",
            "text/plain": [
              "<Figure size 432x288 with 2 Axes>"
            ]
          },
          "metadata": {
            "tags": [],
            "needs_background": "light"
          }
        }
      ]
    },
    {
      "cell_type": "markdown",
      "metadata": {
        "id": "yUzmZmnSv4cp"
      },
      "source": [
        "### Three layer model"
      ]
    },
    {
      "cell_type": "code",
      "metadata": {
        "id": "60aUBB8hd7wc"
      },
      "source": [
        "# 3 layers\n",
        "model3 = models.Sequential()\n",
        "model3.add(layers.Dense(16, activation='relu', input_shape=(10000,)))\n",
        "model3.add(layers.Dense(16, activation='relu'))\n",
        "model3.add(layers.Dense(16, activation='relu'))\n",
        "model3.add(layers.Dense(1, activation='sigmoid'))\n",
        "\n",
        "model3.compile(optimizer=optimizers.RMSprop(lr=0.001),\n",
        "              loss=losses.binary_crossentropy,\n",
        "              metrics=[metrics.binary_accuracy])"
      ],
      "execution_count": null,
      "outputs": []
    },
    {
      "cell_type": "code",
      "metadata": {
        "colab": {
          "base_uri": "https://localhost:8080/"
        },
        "id": "hmyF8qHVu7XU",
        "outputId": "0b2747a1-36e0-4916-e0e1-28bb9067198c"
      },
      "source": [
        "%%time\n",
        "history3 = model3.fit(partial_x_train,\n",
        "                    partial_y_train,\n",
        "                    epochs=num_epochs,\n",
        "                    batch_size=512,\n",
        "                    validation_data=(x_val, y_val),\n",
        "                    verbose = verbosity)"
      ],
      "execution_count": null,
      "outputs": [
        {
          "output_type": "stream",
          "text": [
            "CPU times: user 4.25 s, sys: 280 ms, total: 4.53 s\n",
            "Wall time: 3.23 s\n"
          ],
          "name": "stdout"
        }
      ]
    },
    {
      "cell_type": "code",
      "metadata": {
        "colab": {
          "base_uri": "https://localhost:8080/"
        },
        "id": "DzK6ygqBu9cI",
        "outputId": "fe934633-f7b5-4ec0-dcaf-6e113f747bdf"
      },
      "source": [
        "results3 = model3.evaluate(x_test, y_test)\n",
        "print(results3)"
      ],
      "execution_count": null,
      "outputs": [
        {
          "output_type": "stream",
          "text": [
            "782/782 [==============================] - 2s 3ms/step - loss: 0.3064 - binary_accuracy: 0.8768\n",
            "[0.30644744634628296, 0.8768399953842163]\n"
          ],
          "name": "stdout"
        }
      ]
    },
    {
      "cell_type": "code",
      "metadata": {
        "colab": {
          "base_uri": "https://localhost:8080/",
          "height": 332
        },
        "id": "eUIY-gmYKsRe",
        "outputId": "7c4c44aa-a331-404f-c5ab-a5252b7da559"
      },
      "source": [
        "print_observations(history3)\n",
        "plot_histories(history3)"
      ],
      "execution_count": null,
      "outputs": [
        {
          "output_type": "stream",
          "text": [
            "binary_accuracy argmax is: 3\n",
            "val_binary_accuracy is: 2\n"
          ],
          "name": "stdout"
        },
        {
          "output_type": "display_data",
          "data": {
            "image/png": "[encoded data removed]",
            "text/plain": [
              "<Figure size 432x288 with 2 Axes>"
            ]
          },
          "metadata": {
            "tags": [],
            "needs_background": "light"
          }
        }
      ]
    },
    {
      "cell_type": "markdown",
      "metadata": {
        "id": "Rp64nsqhv7-u"
      },
      "source": [
        "### One layer model"
      ]
    },
    {
      "cell_type": "code",
      "metadata": {
        "id": "vA0ywmmWeAlx"
      },
      "source": [
        "# 1 layer\n",
        "model1 = models.Sequential()\n",
        "model1.add(layers.Dense(16, activation='relu', input_shape=(10000,)))\n",
        "model1.add(layers.Dense(1, activation='sigmoid'))\n",
        "\n",
        "model1.compile(optimizer=optimizers.RMSprop(lr=0.001),\n",
        "              loss=losses.binary_crossentropy,\n",
        "              metrics=[metrics.binary_accuracy])"
      ],
      "execution_count": null,
      "outputs": []
    },
    {
      "cell_type": "code",
      "metadata": {
        "colab": {
          "base_uri": "https://localhost:8080/"
        },
        "id": "4F7jYKywvB6b",
        "outputId": "80f27597-ce42-45ba-e240-08d994eacbe5"
      },
      "source": [
        "%%time\n",
        "history1 = model1.fit(partial_x_train,\n",
        "                    partial_y_train,\n",
        "                    epochs=num_epochs,\n",
        "                    batch_size=512,\n",
        "                    validation_data=(x_val, y_val),\n",
        "                    verbose = verbosity)"
      ],
      "execution_count": null,
      "outputs": [
        {
          "output_type": "stream",
          "text": [
            "CPU times: user 4.14 s, sys: 133 ms, total: 4.28 s\n",
            "Wall time: 2.96 s\n"
          ],
          "name": "stdout"
        }
      ]
    },
    {
      "cell_type": "code",
      "metadata": {
        "colab": {
          "base_uri": "https://localhost:8080/"
        },
        "id": "ySDLes4-vD4-",
        "outputId": "0cecfcb3-f70d-484c-b7f0-cd34165a4537"
      },
      "source": [
        "results1 = model1.evaluate(x_test, y_test)\n",
        "print(results1)"
      ],
      "execution_count": null,
      "outputs": [
        {
          "output_type": "stream",
          "text": [
            "782/782 [==============================] - 2s 2ms/step - loss: 0.3040 - binary_accuracy: 0.8764\n",
            "[0.30400434136390686, 0.8763599991798401]\n"
          ],
          "name": "stdout"
        }
      ]
    },
    {
      "cell_type": "code",
      "metadata": {
        "colab": {
          "base_uri": "https://localhost:8080/",
          "height": 332
        },
        "id": "AxQFCreEP3nM",
        "outputId": "b5d56654-f448-4c42-c711-1a6fa49a30c5"
      },
      "source": [
        "print_observations(history1)\n",
        "plot_histories(history1)"
      ],
      "execution_count": null,
      "outputs": [
        {
          "output_type": "stream",
          "text": [
            "binary_accuracy argmax is: 3\n",
            "val_binary_accuracy is: 1\n"
          ],
          "name": "stdout"
        },
        {
          "output_type": "display_data",
          "data": {
            "image/png": "[encoded data removed]",
            "text/plain": [
              "<Figure size 432x288 with 2 Axes>"
            ]
          },
          "metadata": {
            "tags": [],
            "needs_background": "light"
          }
        }
      ]
    },
    {
      "cell_type": "markdown",
      "metadata": {
        "id": "rzzAaNylgjN4"
      },
      "source": [
        "## 1.2\n",
        "Try to use layers with more hidden units or less hidden units: 32 unitsand 64 units.(10pt)"
      ]
    },
    {
      "cell_type": "markdown",
      "metadata": {
        "id": "cKfSWWGMUlv1"
      },
      "source": [
        "**Accuracy**: The 64 unit model has the same accuracy as the base model.  The 32 unit model improves the accuracy.\n",
        "\n",
        "**Loss**: The 64 unit model has the same loss as the base model. The 32 unit model improves the loss.\n",
        "\n",
        "**Training Time**: The 64 unit model improves the time to train as does the 32 unit model."
      ]
    },
    {
      "cell_type": "markdown",
      "metadata": {
        "id": "6DuaDDTav-O6"
      },
      "source": [
        "### 32 unit model"
      ]
    },
    {
      "cell_type": "code",
      "metadata": {
        "id": "1PtmEIknhS6U"
      },
      "source": [
        "model32 = models.Sequential()\n",
        "model32.add(layers.Dense(32, activation='relu', input_shape=(10000,)))\n",
        "model32.add(layers.Dense(32, activation='relu'))\n",
        "model32.add(layers.Dense(1, activation='sigmoid'))\n",
        "\n",
        "model32.compile(optimizer=optimizers.RMSprop(lr=0.001),\n",
        "              loss=losses.binary_crossentropy,\n",
        "              metrics=[metrics.binary_accuracy])"
      ],
      "execution_count": null,
      "outputs": []
    },
    {
      "cell_type": "code",
      "metadata": {
        "colab": {
          "base_uri": "https://localhost:8080/"
        },
        "id": "odqbARlIvGMm",
        "outputId": "3c96c886-2e35-47d8-82df-c13434457480"
      },
      "source": [
        "%%time\n",
        "history32 = model32.fit(partial_x_train,\n",
        "            partial_y_train,\n",
        "            epochs=num_epochs,\n",
        "            batch_size=512,\n",
        "            validation_data=(x_val, y_val),\n",
        "            verbose = verbosity)"
      ],
      "execution_count": null,
      "outputs": [
        {
          "output_type": "stream",
          "text": [
            "CPU times: user 4.11 s, sys: 411 ms, total: 4.52 s\n",
            "Wall time: 3.23 s\n"
          ],
          "name": "stdout"
        }
      ]
    },
    {
      "cell_type": "code",
      "metadata": {
        "colab": {
          "base_uri": "https://localhost:8080/"
        },
        "id": "rWqVshjsvIPp",
        "outputId": "e1344cb4-eba5-4687-81f0-8ab7961b864d"
      },
      "source": [
        "results32 = model32.evaluate(x_test, y_test)\n",
        "print(results32)"
      ],
      "execution_count": null,
      "outputs": [
        {
          "output_type": "stream",
          "text": [
            "782/782 [==============================] - 2s 2ms/step - loss: 0.3035 - binary_accuracy: 0.8789\n",
            "[0.30345606803894043, 0.8788800239562988]\n"
          ],
          "name": "stdout"
        }
      ]
    },
    {
      "cell_type": "code",
      "metadata": {
        "colab": {
          "base_uri": "https://localhost:8080/",
          "height": 332
        },
        "id": "vo0pYtfdQgKH",
        "outputId": "572bf0c6-b950-4dfd-eeff-62339e630bde"
      },
      "source": [
        "print_observations(history32)\n",
        "plot_histories(history32)"
      ],
      "execution_count": null,
      "outputs": [
        {
          "output_type": "stream",
          "text": [
            "binary_accuracy argmax is: 3\n",
            "val_binary_accuracy is: 1\n"
          ],
          "name": "stdout"
        },
        {
          "output_type": "display_data",
          "data": {
            "image/png": "[encoded data removed]",
            "text/plain": [
              "<Figure size 432x288 with 2 Axes>"
            ]
          },
          "metadata": {
            "tags": [],
            "needs_background": "light"
          }
        }
      ]
    },
    {
      "cell_type": "markdown",
      "metadata": {
        "id": "0KS1AjFpwAjI"
      },
      "source": [
        "### 64 unit model"
      ]
    },
    {
      "cell_type": "code",
      "metadata": {
        "id": "b_GKfRfIhWy9"
      },
      "source": [
        "model64 = models.Sequential()\n",
        "model64.add(layers.Dense(64, activation='relu', input_shape=(10000,)))\n",
        "model64.add(layers.Dense(64, activation='relu'))\n",
        "model64.add(layers.Dense(1, activation='sigmoid'))\n",
        "\n",
        "model64.compile(optimizer=optimizers.RMSprop(lr=0.001),\n",
        "              loss=losses.binary_crossentropy,\n",
        "              metrics=[metrics.binary_accuracy])"
      ],
      "execution_count": null,
      "outputs": []
    },
    {
      "cell_type": "code",
      "metadata": {
        "colab": {
          "base_uri": "https://localhost:8080/"
        },
        "id": "UvlQof2nvKRs",
        "outputId": "cdf2eb3e-dc16-4773-dab1-e9ac1e858972"
      },
      "source": [
        "%%time\n",
        "history64 = model64.fit(partial_x_train,\n",
        "            partial_y_train,\n",
        "            epochs=num_epochs,\n",
        "            batch_size=512,\n",
        "            validation_data=(x_val, y_val),\n",
        "            verbose = verbosity)"
      ],
      "execution_count": null,
      "outputs": [
        {
          "output_type": "stream",
          "text": [
            "CPU times: user 4.07 s, sys: 113 ms, total: 4.18 s\n",
            "Wall time: 2.97 s\n"
          ],
          "name": "stdout"
        }
      ]
    },
    {
      "cell_type": "code",
      "metadata": {
        "colab": {
          "base_uri": "https://localhost:8080/"
        },
        "id": "EBxlNM22vM6j",
        "outputId": "0dc2d0ce-aa68-4018-a09b-5488f985c3a9"
      },
      "source": [
        "results64 = model.evaluate(x_test, y_test)\n",
        "print(results64)"
      ],
      "execution_count": null,
      "outputs": [
        {
          "output_type": "stream",
          "text": [
            "782/782 [==============================] - 2s 2ms/step - loss: 0.3578 - binary_accuracy: 0.8550\n",
            "[0.3578307330608368, 0.8550400137901306]\n"
          ],
          "name": "stdout"
        }
      ]
    },
    {
      "cell_type": "code",
      "metadata": {
        "colab": {
          "base_uri": "https://localhost:8080/",
          "height": 332
        },
        "id": "53hpt7d8QkcN",
        "outputId": "36b0fa82-f28a-41fe-985b-2860645396a5"
      },
      "source": [
        "print_observations(history64)\n",
        "plot_histories(history64)"
      ],
      "execution_count": null,
      "outputs": [
        {
          "output_type": "stream",
          "text": [
            "binary_accuracy argmax is: 3\n",
            "val_binary_accuracy is: 2\n"
          ],
          "name": "stdout"
        },
        {
          "output_type": "display_data",
          "data": {
            "image/png": "[encoded data removed]",
            "text/plain": [
              "<Figure size 432x288 with 2 Axes>"
            ]
          },
          "metadata": {
            "tags": [],
            "needs_background": "light"
          }
        }
      ]
    },
    {
      "cell_type": "markdown",
      "metadata": {
        "id": "2zb3BU1bgoSd"
      },
      "source": [
        "## 1.3\n",
        "Try to use the mseloss function instead of binary_crossentropy.(10pt)"
      ]
    },
    {
      "cell_type": "markdown",
      "metadata": {
        "id": "5xhyk3JLVZQd"
      },
      "source": [
        "**Accuracy**: The mse model increased accuracy over the base model.\n",
        "\n",
        "**Loss**: The mse model decreased loss by a large amount.\n",
        "\n",
        "**Training Time**: The time to train decreased."
      ]
    },
    {
      "cell_type": "code",
      "metadata": {
        "id": "EedwEhN-i2EV"
      },
      "source": [
        "modelmse = models.Sequential()\n",
        "modelmse.add(layers.Dense(16, activation='relu', input_shape=(10000,)))\n",
        "modelmse.add(layers.Dense(16, activation='relu'))\n",
        "modelmse.add(layers.Dense(1, activation='sigmoid'))\n",
        "\n",
        "modelmse.compile(optimizer=optimizers.RMSprop(lr=0.001),\n",
        "                loss=losses.mse,\n",
        "                metrics=[metrics.binary_accuracy])"
      ],
      "execution_count": null,
      "outputs": []
    },
    {
      "cell_type": "code",
      "metadata": {
        "colab": {
          "base_uri": "https://localhost:8080/"
        },
        "id": "W0pHaxUDvQBB",
        "outputId": "50288c0b-eff5-4d2e-a66e-46ef269a8ed5"
      },
      "source": [
        "%%time\n",
        "historymse = modelmse.fit(partial_x_train,\n",
        "                          partial_y_train,\n",
        "                          epochs=num_epochs,\n",
        "                          batch_size=512,\n",
        "                          validation_data=(x_val, y_val),\n",
        "                          verbose = verbosity)"
      ],
      "execution_count": null,
      "outputs": [
        {
          "output_type": "stream",
          "text": [
            "CPU times: user 4.11 s, sys: 135 ms, total: 4.25 s\n",
            "Wall time: 2.94 s\n"
          ],
          "name": "stdout"
        }
      ]
    },
    {
      "cell_type": "code",
      "metadata": {
        "colab": {
          "base_uri": "https://localhost:8080/"
        },
        "id": "i4YP9ttqvSXb",
        "outputId": "dad50318-8b79-409f-878c-940fcceba322"
      },
      "source": [
        "resultsmse = modelmse.evaluate(x_test, y_test)\n",
        "print(resultsmse)"
      ],
      "execution_count": null,
      "outputs": [
        {
          "output_type": "stream",
          "text": [
            "782/782 [==============================] - 2s 2ms/step - loss: 0.0899 - binary_accuracy: 0.8796\n",
            "[0.08990045636892319, 0.8795599937438965]\n"
          ],
          "name": "stdout"
        }
      ]
    },
    {
      "cell_type": "markdown",
      "metadata": {
        "id": "YarOhfbbgo2Z"
      },
      "source": [
        "## 1.4\n",
        "Try to use the tanh activation (an activation that was popular in the early days of neural networks) instead of relu.(10pt)"
      ]
    },
    {
      "cell_type": "markdown",
      "metadata": {
        "id": "TOmoAzHyWiaU"
      },
      "source": [
        "**Accuracy**: The tanh model increased accuracy over the base model.\n",
        "\n",
        "**Loss**: The tanh model increased loss.\n",
        "\n",
        "**Training Time**: The tanh model decreased time to fit.  "
      ]
    },
    {
      "cell_type": "code",
      "metadata": {
        "id": "KTO1cOIBi_GI"
      },
      "source": [
        "modeltanh = models.Sequential()\n",
        "modeltanh.add(layers.Dense(64, activation='tanh', input_shape=(10000,)))\n",
        "modeltanh.add(layers.Dense(64, activation='tanh'))\n",
        "modeltanh.add(layers.Dense(1, activation='sigmoid'))\n",
        "\n",
        "modeltanh.compile(optimizer=optimizers.RMSprop(lr=0.001),\n",
        "                  loss=losses.binary_crossentropy,\n",
        "                  metrics=[metrics.binary_accuracy])"
      ],
      "execution_count": null,
      "outputs": []
    },
    {
      "cell_type": "code",
      "metadata": {
        "colab": {
          "base_uri": "https://localhost:8080/"
        },
        "id": "FxZFb1bpvUTL",
        "outputId": "25abbc51-e153-4cc4-a25a-4b682b488430"
      },
      "source": [
        "%%time\n",
        "historytanh = modeltanh.fit(partial_x_train,\n",
        "                            partial_y_train,\n",
        "                            epochs=num_epochs,\n",
        "                            batch_size=512,\n",
        "                            validation_data=(x_val, y_val),\n",
        "                            verbose = verbosity)"
      ],
      "execution_count": null,
      "outputs": [
        {
          "output_type": "stream",
          "text": [
            "CPU times: user 4.15 s, sys: 128 ms, total: 4.28 s\n",
            "Wall time: 3.08 s\n"
          ],
          "name": "stdout"
        }
      ]
    },
    {
      "cell_type": "code",
      "metadata": {
        "colab": {
          "base_uri": "https://localhost:8080/"
        },
        "id": "VdW-GzK-vW6p",
        "outputId": "a6aa0a4c-9c87-4165-e3bd-1598178ab12d"
      },
      "source": [
        "resultstanh = modeltanh.evaluate(x_test, y_test)\n",
        "print(resultstanh)"
      ],
      "execution_count": null,
      "outputs": [
        {
          "output_type": "stream",
          "text": [
            "782/782 [==============================] - 2s 2ms/step - loss: 0.3716 - binary_accuracy: 0.8658\n",
            "[0.3716157078742981, 0.8658400177955627]\n"
          ],
          "name": "stdout"
        }
      ]
    },
    {
      "cell_type": "markdown",
      "metadata": {
        "id": "BX4sU96LmPJE"
      },
      "source": [
        "# Problem #2\n",
        "P2(60pt):Write a Python code in Colab using NumPy, Panda, Scikit-Learn and Keras to complete the following tasks:"
      ]
    },
    {
      "cell_type": "markdown",
      "metadata": {
        "id": "M_9T9QpJmb9i"
      },
      "source": [
        "## 2.1\n",
        "Import the Auto MPG dataset using pandas.read_csv(),use the attribute names as explained in the dataset description as the column names (5pt), view the strings ‘?’ as the missing value, and whitespace (i.e., ‘\\s+’) as the column delimiter. Print out the shape and first 5 rows of the DataFrame. (5pt)\n",
        "\n",
        "a.Dataset source file: http://archive.ics.uci.edu/ml/machine-learning-databases/auto-mpg/auto-mpg.data\n",
        "\n",
        "b.Dataset description: http://archive.ics.uci.edu/ml/datasets/Auto+MPG"
      ]
    },
    {
      "cell_type": "code",
      "metadata": {
        "id": "ANpVwQ99nfuJ",
        "colab": {
          "base_uri": "https://localhost:8080/",
          "height": 225
        },
        "outputId": "726e48e4-247b-4dd3-f041-645c25d6d014"
      },
      "source": [
        "df = pd.read_csv('http://archive.ics.uci.edu/ml/machine-learning-databases/auto-mpg/auto-mpg.data',\n",
        "                 na_values = '?',\n",
        "                 sep = '\\s+',\n",
        "                 names = ['mpg', 'cylinders', 'displacement', 'horsepower', 'weight', 'acceleration', 'model year', 'origin', 'car name', ])\n",
        "print(df.shape)\n",
        "df.head(5)"
      ],
      "execution_count": null,
      "outputs": [
        {
          "output_type": "stream",
          "text": [
            "(398, 9)\n"
          ],
          "name": "stdout"
        },
        {
          "output_type": "execute_result",
          "data": {
            "text/html": [
              "<div>\n",
              "<style scoped>\n",
              "    .dataframe tbody tr th:only-of-type {\n",
              "        vertical-align: middle;\n",
              "    }\n",
              "\n",
              "    .dataframe tbody tr th {\n",
              "        vertical-align: top;\n",
              "    }\n",
              "\n",
              "    .dataframe thead th {\n",
              "        text-align: right;\n",
              "    }\n",
              "</style>\n",
              "<table border=\"1\" class=\"dataframe\">\n",
              "  <thead>\n",
              "    <tr style=\"text-align: right;\">\n",
              "      <th></th>\n",
              "      <th>mpg</th>\n",
              "      <th>cylinders</th>\n",
              "      <th>displacement</th>\n",
              "      <th>horsepower</th>\n",
              "      <th>weight</th>\n",
              "      <th>acceleration</th>\n",
              "      <th>model year</th>\n",
              "      <th>origin</th>\n",
              "      <th>car name</th>\n",
              "    </tr>\n",
              "  </thead>\n",
              "  <tbody>\n",
              "    <tr>\n",
              "      <th>0</th>\n",
              "      <td>18.0</td>\n",
              "      <td>8</td>\n",
              "      <td>307.0</td>\n",
              "      <td>130.0</td>\n",
              "      <td>3504.0</td>\n",
              "      <td>12.0</td>\n",
              "      <td>70</td>\n",
              "      <td>1</td>\n",
              "      <td>chevrolet chevelle malibu</td>\n",
              "    </tr>\n",
              "    <tr>\n",
              "      <th>1</th>\n",
              "      <td>15.0</td>\n",
              "      <td>8</td>\n",
              "      <td>350.0</td>\n",
              "      <td>165.0</td>\n",
              "      <td>3693.0</td>\n",
              "      <td>11.5</td>\n",
              "      <td>70</td>\n",
              "      <td>1</td>\n",
              "      <td>buick skylark 320</td>\n",
              "    </tr>\n",
              "    <tr>\n",
              "      <th>2</th>\n",
              "      <td>18.0</td>\n",
              "      <td>8</td>\n",
              "      <td>318.0</td>\n",
              "      <td>150.0</td>\n",
              "      <td>3436.0</td>\n",
              "      <td>11.0</td>\n",
              "      <td>70</td>\n",
              "      <td>1</td>\n",
              "      <td>plymouth satellite</td>\n",
              "    </tr>\n",
              "    <tr>\n",
              "      <th>3</th>\n",
              "      <td>16.0</td>\n",
              "      <td>8</td>\n",
              "      <td>304.0</td>\n",
              "      <td>150.0</td>\n",
              "      <td>3433.0</td>\n",
              "      <td>12.0</td>\n",
              "      <td>70</td>\n",
              "      <td>1</td>\n",
              "      <td>amc rebel sst</td>\n",
              "    </tr>\n",
              "    <tr>\n",
              "      <th>4</th>\n",
              "      <td>17.0</td>\n",
              "      <td>8</td>\n",
              "      <td>302.0</td>\n",
              "      <td>140.0</td>\n",
              "      <td>3449.0</td>\n",
              "      <td>10.5</td>\n",
              "      <td>70</td>\n",
              "      <td>1</td>\n",
              "      <td>ford torino</td>\n",
              "    </tr>\n",
              "  </tbody>\n",
              "</table>\n",
              "</div>"
            ],
            "text/plain": [
              "    mpg  cylinders  displacement  ...  model year  origin                   car name\n",
              "0  18.0          8         307.0  ...          70       1  chevrolet chevelle malibu\n",
              "1  15.0          8         350.0  ...          70       1          buick skylark 320\n",
              "2  18.0          8         318.0  ...          70       1         plymouth satellite\n",
              "3  16.0          8         304.0  ...          70       1              amc rebel sst\n",
              "4  17.0          8         302.0  ...          70       1                ford torino\n",
              "\n",
              "[5 rows x 9 columns]"
            ]
          },
          "metadata": {
            "tags": []
          },
          "execution_count": 94
        }
      ]
    },
    {
      "cell_type": "markdown",
      "metadata": {
        "id": "SQwmftgLming"
      },
      "source": [
        "## 2.2\n",
        "Delete the “car_name” column using .drop()and drop the rows containing NULL valueusing .dropna().Print out the shape and first 5 rows of the DataFrame.(5pt)"
      ]
    },
    {
      "cell_type": "code",
      "metadata": {
        "id": "4FDeIx0Jnwvl",
        "colab": {
          "base_uri": "https://localhost:8080/",
          "height": 225
        },
        "outputId": "57fe76cc-372a-40eb-a1c0-8cdd051ff648"
      },
      "source": [
        "df = df.drop(columns=['car name'])\n",
        "df = df.dropna()\n",
        "\n",
        "print(df.shape)\n",
        "df.head(5)"
      ],
      "execution_count": null,
      "outputs": [
        {
          "output_type": "stream",
          "text": [
            "(392, 8)\n"
          ],
          "name": "stdout"
        },
        {
          "output_type": "execute_result",
          "data": {
            "text/html": [
              "<div>\n",
              "<style scoped>\n",
              "    .dataframe tbody tr th:only-of-type {\n",
              "        vertical-align: middle;\n",
              "    }\n",
              "\n",
              "    .dataframe tbody tr th {\n",
              "        vertical-align: top;\n",
              "    }\n",
              "\n",
              "    .dataframe thead th {\n",
              "        text-align: right;\n",
              "    }\n",
              "</style>\n",
              "<table border=\"1\" class=\"dataframe\">\n",
              "  <thead>\n",
              "    <tr style=\"text-align: right;\">\n",
              "      <th></th>\n",
              "      <th>mpg</th>\n",
              "      <th>cylinders</th>\n",
              "      <th>displacement</th>\n",
              "      <th>horsepower</th>\n",
              "      <th>weight</th>\n",
              "      <th>acceleration</th>\n",
              "      <th>model year</th>\n",
              "      <th>origin</th>\n",
              "    </tr>\n",
              "  </thead>\n",
              "  <tbody>\n",
              "    <tr>\n",
              "      <th>0</th>\n",
              "      <td>18.0</td>\n",
              "      <td>8</td>\n",
              "      <td>307.0</td>\n",
              "      <td>130.0</td>\n",
              "      <td>3504.0</td>\n",
              "      <td>12.0</td>\n",
              "      <td>70</td>\n",
              "      <td>1</td>\n",
              "    </tr>\n",
              "    <tr>\n",
              "      <th>1</th>\n",
              "      <td>15.0</td>\n",
              "      <td>8</td>\n",
              "      <td>350.0</td>\n",
              "      <td>165.0</td>\n",
              "      <td>3693.0</td>\n",
              "      <td>11.5</td>\n",
              "      <td>70</td>\n",
              "      <td>1</td>\n",
              "    </tr>\n",
              "    <tr>\n",
              "      <th>2</th>\n",
              "      <td>18.0</td>\n",
              "      <td>8</td>\n",
              "      <td>318.0</td>\n",
              "      <td>150.0</td>\n",
              "      <td>3436.0</td>\n",
              "      <td>11.0</td>\n",
              "      <td>70</td>\n",
              "      <td>1</td>\n",
              "    </tr>\n",
              "    <tr>\n",
              "      <th>3</th>\n",
              "      <td>16.0</td>\n",
              "      <td>8</td>\n",
              "      <td>304.0</td>\n",
              "      <td>150.0</td>\n",
              "      <td>3433.0</td>\n",
              "      <td>12.0</td>\n",
              "      <td>70</td>\n",
              "      <td>1</td>\n",
              "    </tr>\n",
              "    <tr>\n",
              "      <th>4</th>\n",
              "      <td>17.0</td>\n",
              "      <td>8</td>\n",
              "      <td>302.0</td>\n",
              "      <td>140.0</td>\n",
              "      <td>3449.0</td>\n",
              "      <td>10.5</td>\n",
              "      <td>70</td>\n",
              "      <td>1</td>\n",
              "    </tr>\n",
              "  </tbody>\n",
              "</table>\n",
              "</div>"
            ],
            "text/plain": [
              "    mpg  cylinders  displacement  ...  acceleration  model year  origin\n",
              "0  18.0          8         307.0  ...          12.0          70       1\n",
              "1  15.0          8         350.0  ...          11.5          70       1\n",
              "2  18.0          8         318.0  ...          11.0          70       1\n",
              "3  16.0          8         304.0  ...          12.0          70       1\n",
              "4  17.0          8         302.0  ...          10.5          70       1\n",
              "\n",
              "[5 rows x 8 columns]"
            ]
          },
          "metadata": {
            "tags": []
          },
          "execution_count": 95
        }
      ]
    },
    {
      "cell_type": "markdown",
      "metadata": {
        "id": "ztkOuWH8mkrN"
      },
      "source": [
        "## 2.3\n",
        "For the ‘origin’ column with categorical attribute, replace it with the columns with numerical attributes using one-hot encoding. Print out the shape and first 5 rows of theDataFrame.(5pt)"
      ]
    },
    {
      "cell_type": "code",
      "metadata": {
        "id": "qNZ4uR-aowXT",
        "colab": {
          "base_uri": "https://localhost:8080/",
          "height": 225
        },
        "outputId": "1f91fc53-97a1-42b8-e510-e8ee2a5d73b1"
      },
      "source": [
        "df = pd.get_dummies(df, columns=['origin'])\n",
        "print(df.shape)\n",
        "df.head(5)"
      ],
      "execution_count": null,
      "outputs": [
        {
          "output_type": "stream",
          "text": [
            "(392, 10)\n"
          ],
          "name": "stdout"
        },
        {
          "output_type": "execute_result",
          "data": {
            "text/html": [
              "<div>\n",
              "<style scoped>\n",
              "    .dataframe tbody tr th:only-of-type {\n",
              "        vertical-align: middle;\n",
              "    }\n",
              "\n",
              "    .dataframe tbody tr th {\n",
              "        vertical-align: top;\n",
              "    }\n",
              "\n",
              "    .dataframe thead th {\n",
              "        text-align: right;\n",
              "    }\n",
              "</style>\n",
              "<table border=\"1\" class=\"dataframe\">\n",
              "  <thead>\n",
              "    <tr style=\"text-align: right;\">\n",
              "      <th></th>\n",
              "      <th>mpg</th>\n",
              "      <th>cylinders</th>\n",
              "      <th>displacement</th>\n",
              "      <th>horsepower</th>\n",
              "      <th>weight</th>\n",
              "      <th>acceleration</th>\n",
              "      <th>model year</th>\n",
              "      <th>origin_1</th>\n",
              "      <th>origin_2</th>\n",
              "      <th>origin_3</th>\n",
              "    </tr>\n",
              "  </thead>\n",
              "  <tbody>\n",
              "    <tr>\n",
              "      <th>0</th>\n",
              "      <td>18.0</td>\n",
              "      <td>8</td>\n",
              "      <td>307.0</td>\n",
              "      <td>130.0</td>\n",
              "      <td>3504.0</td>\n",
              "      <td>12.0</td>\n",
              "      <td>70</td>\n",
              "      <td>1</td>\n",
              "      <td>0</td>\n",
              "      <td>0</td>\n",
              "    </tr>\n",
              "    <tr>\n",
              "      <th>1</th>\n",
              "      <td>15.0</td>\n",
              "      <td>8</td>\n",
              "      <td>350.0</td>\n",
              "      <td>165.0</td>\n",
              "      <td>3693.0</td>\n",
              "      <td>11.5</td>\n",
              "      <td>70</td>\n",
              "      <td>1</td>\n",
              "      <td>0</td>\n",
              "      <td>0</td>\n",
              "    </tr>\n",
              "    <tr>\n",
              "      <th>2</th>\n",
              "      <td>18.0</td>\n",
              "      <td>8</td>\n",
              "      <td>318.0</td>\n",
              "      <td>150.0</td>\n",
              "      <td>3436.0</td>\n",
              "      <td>11.0</td>\n",
              "      <td>70</td>\n",
              "      <td>1</td>\n",
              "      <td>0</td>\n",
              "      <td>0</td>\n",
              "    </tr>\n",
              "    <tr>\n",
              "      <th>3</th>\n",
              "      <td>16.0</td>\n",
              "      <td>8</td>\n",
              "      <td>304.0</td>\n",
              "      <td>150.0</td>\n",
              "      <td>3433.0</td>\n",
              "      <td>12.0</td>\n",
              "      <td>70</td>\n",
              "      <td>1</td>\n",
              "      <td>0</td>\n",
              "      <td>0</td>\n",
              "    </tr>\n",
              "    <tr>\n",
              "      <th>4</th>\n",
              "      <td>17.0</td>\n",
              "      <td>8</td>\n",
              "      <td>302.0</td>\n",
              "      <td>140.0</td>\n",
              "      <td>3449.0</td>\n",
              "      <td>10.5</td>\n",
              "      <td>70</td>\n",
              "      <td>1</td>\n",
              "      <td>0</td>\n",
              "      <td>0</td>\n",
              "    </tr>\n",
              "  </tbody>\n",
              "</table>\n",
              "</div>"
            ],
            "text/plain": [
              "    mpg  cylinders  displacement  ...  origin_1  origin_2  origin_3\n",
              "0  18.0          8         307.0  ...         1         0         0\n",
              "1  15.0          8         350.0  ...         1         0         0\n",
              "2  18.0          8         318.0  ...         1         0         0\n",
              "3  16.0          8         304.0  ...         1         0         0\n",
              "4  17.0          8         302.0  ...         1         0         0\n",
              "\n",
              "[5 rows x 10 columns]"
            ]
          },
          "metadata": {
            "tags": []
          },
          "execution_count": 96
        }
      ]
    },
    {
      "cell_type": "markdown",
      "metadata": {
        "id": "Lc288IIRmmLv"
      },
      "source": [
        "## 2.4\n",
        "\n",
        "Separate the “mpg” column from other columns and view it as the label vector and others as the feature matrix. Split the data into a training set (80%) and testing set (20%) using train_test_split and print out their shapes. (5pt)"
      ]
    },
    {
      "cell_type": "code",
      "metadata": {
        "id": "KU8ScT1qgyJZ",
        "colab": {
          "base_uri": "https://localhost:8080/"
        },
        "outputId": "9477a633-e8e2-425e-fa3f-64dd27e2ea0f"
      },
      "source": [
        "X_col = df.columns.drop('mpg')\n",
        "X = df[X_col].values\n",
        "y = df['mpg'].values\n",
        "X_train, X_test, y_train, y_test = train_test_split(X, y, test_size=0.2)\n",
        "(X_train.shape, X_test.shape, y_train.shape, y_test.shape)"
      ],
      "execution_count": null,
      "outputs": [
        {
          "output_type": "execute_result",
          "data": {
            "text/plain": [
              "((313, 9), (79, 9), (313,), (79,))"
            ]
          },
          "metadata": {
            "tags": []
          },
          "execution_count": 97
        }
      ]
    },
    {
      "cell_type": "markdown",
      "metadata": {
        "id": "Sp3csGeTmoQ3"
      },
      "source": [
        "## 2.5\n",
        "\n",
        "Use the StandardScalar() in Scikit-Learn to normalize the feature matrices of both training set and testing set. Note that the testing set can only be scaled by the mean and standard deviation values obtained from the training set.(5pt)"
      ]
    },
    {
      "cell_type": "code",
      "metadata": {
        "id": "NVssDZCahs8D"
      },
      "source": [
        "feature_scaler = StandardScaler()\n",
        "X_train = feature_scaler.fit_transform(X_train)\n",
        "X_test = feature_scaler.transform(X_test)"
      ],
      "execution_count": null,
      "outputs": []
    },
    {
      "cell_type": "markdown",
      "metadata": {
        "id": "ynCFM6Yimqfr"
      },
      "source": [
        "## 2.6\n",
        "\n",
        "Build a SequentialNN model in Keras with two densely connected hidden layers (32 neurons and ReLU activation function for each hidden layer), and an output layer that returns a single, continuous value. Print out the model summary using .summary().(10pt)"
      ]
    },
    {
      "cell_type": "code",
      "metadata": {
        "id": "va_s4zFgh7PP",
        "colab": {
          "base_uri": "https://localhost:8080/"
        },
        "outputId": "77883733-b31c-49cc-acf0-852e4c136e3a"
      },
      "source": [
        "auto_model = models.Sequential()\n",
        "auto_model.add(layers.Dense(32, activation='relu', input_shape=(X_train.shape[1],)))\n",
        "auto_model.add(layers.Dense(32, activation='relu'))\n",
        "auto_model.add(layers.Dense(1))\n",
        "auto_model.summary()"
      ],
      "execution_count": null,
      "outputs": [
        {
          "output_type": "stream",
          "text": [
            "Model: \"sequential_24\"\n",
            "_________________________________________________________________\n",
            "Layer (type)                 Output Shape              Param #   \n",
            "=================================================================\n",
            "dense_72 (Dense)             (None, 32)                320       \n",
            "_________________________________________________________________\n",
            "dense_73 (Dense)             (None, 32)                1056      \n",
            "_________________________________________________________________\n",
            "dense_74 (Dense)             (None, 1)                 33        \n",
            "=================================================================\n",
            "Total params: 1,409\n",
            "Trainable params: 1,409\n",
            "Non-trainable params: 0\n",
            "_________________________________________________________________\n"
          ],
          "name": "stdout"
        }
      ]
    },
    {
      "cell_type": "markdown",
      "metadata": {
        "id": "h0adsI8pmsIU"
      },
      "source": [
        "## 2.7\n",
        "\n",
        "Define the appropriate loss function, optimizer, and metrics for this specific problem and compile the NN model. (10pt)"
      ]
    },
    {
      "cell_type": "code",
      "metadata": {
        "id": "qPG-cT5Vl6ed"
      },
      "source": [
        "auto_model.compile(optimizer='rmsprop', loss='mse', metrics=['mae'])"
      ],
      "execution_count": null,
      "outputs": []
    },
    {
      "cell_type": "markdown",
      "metadata": {
        "id": "gQPPDZDOmtVQ"
      },
      "source": [
        "## 2.8\n",
        "\n",
        "Put aside 20% of the training data as the validation dataset and set verbose = 0 to compress the model training status in Keras.fit().Train the NN model for 500 epochs and plot the training and validation loss progresses with respect to the epoch number. (10pt)"
      ]
    },
    {
      "cell_type": "code",
      "metadata": {
        "colab": {
          "base_uri": "https://localhost:8080/"
        },
        "id": "jdJzzjOu4yH7",
        "outputId": "fcccb598-1af1-4fa0-d84e-9c00cf7a9e82"
      },
      "source": [
        "len_val = round(.2*len(X_train))\n",
        "\n",
        "x_val = X_train[:len_val]\n",
        "partial_x_train = X_train[len_val:]\n",
        "\n",
        "y_val = y_train[:len_val]\n",
        "partial_y_train = y_train[len_val:]\n",
        "\n",
        "(partial_x_train.shape, partial_y_train.shape, x_val.shape, y_val.shape)"
      ],
      "execution_count": null,
      "outputs": [
        {
          "output_type": "execute_result",
          "data": {
            "text/plain": [
              "((250, 9), (250,), (63, 9), (63,))"
            ]
          },
          "metadata": {
            "tags": []
          },
          "execution_count": 101
        }
      ]
    },
    {
      "cell_type": "code",
      "metadata": {
        "id": "xVYwk0dk51DL"
      },
      "source": [
        "history = auto_model.fit(partial_x_train,\n",
        "                    partial_y_train,\n",
        "                    epochs=500,\n",
        "                    validation_data=(x_val, y_val),\n",
        "                    verbose = 0)"
      ],
      "execution_count": null,
      "outputs": []
    },
    {
      "cell_type": "code",
      "metadata": {
        "colab": {
          "base_uri": "https://localhost:8080/",
          "height": 295
        },
        "id": "Q0TZCxWIAYJh",
        "outputId": "29ccedd5-a0c4-4455-f5fb-2f852ecf734e"
      },
      "source": [
        "loss = history.history['loss']\n",
        "val_loss = history.history['val_loss']\n",
        "\n",
        "epochs = range(1, len(loss) + 1)\n",
        "\n",
        "plt.plot(epochs, loss, 'bo', label='Training loss')\n",
        "plt.plot(epochs, val_loss, 'b', label='Validation loss')\n",
        "plt.title('Training and validation loss')\n",
        "plt.xlabel('Epochs')\n",
        "plt.ylabel('Loss')\n",
        "plt.legend()\n",
        "\n",
        "plt.show()"
      ],
      "execution_count": null,
      "outputs": [
        {
          "output_type": "display_data",
          "data": {
            "image/png": "[encoded data removed]",
            "text/plain": [
              "<Figure size 432x288 with 1 Axes>"
            ]
          },
          "metadata": {
            "tags": [],
            "needs_background": "light"
          }
        }
      ]
    },
    {
      "cell_type": "code",
      "metadata": {
        "colab": {
          "base_uri": "https://localhost:8080/",
          "height": 295
        },
        "id": "dQA0nTClBtkt",
        "outputId": "f327074b-234b-467a-ca9d-19a6c89da301"
      },
      "source": [
        "mae = history.history['mae']\n",
        "val_mae = history.history['val_mae']\n",
        "\n",
        "epochs = range(1, len(loss) + 1)\n",
        "\n",
        "plt.plot(epochs, mae, 'bo', label='Training MAE')\n",
        "plt.plot(epochs, val_mae, 'b', label='Validation MAE')\n",
        "plt.title('Training and validation MAE')\n",
        "plt.xlabel('Epochs')\n",
        "plt.ylabel('MAE')\n",
        "plt.legend()\n",
        "\n",
        "plt.show()"
      ],
      "execution_count": null,
      "outputs": [
        {
          "output_type": "display_data",
          "data": {
            "image/png": "[encoded data removed]",
            "text/plain": [
              "<Figure size 432x288 with 1 Axes>"
            ]
          },
          "metadata": {
            "tags": [],
            "needs_background": "light"
          }
        }
      ]
    },
    {
      "cell_type": "markdown",
      "metadata": {
        "id": "WP6oQgvEmvkH"
      },
      "source": [
        "## 2.9\n",
        "\n",
        "Use the trained NN model to make predictions on the testing dataset and observe the prediction error. (5pt)"
      ]
    },
    {
      "cell_type": "code",
      "metadata": {
        "colab": {
          "base_uri": "https://localhost:8080/"
        },
        "id": "Cx6DqypV4w8_",
        "outputId": "a115d8fe-0a31-433e-86db-1165a8a1b9fe"
      },
      "source": [
        "test_mse_score, test_mae_score = auto_model.evaluate(X_test, y_test)\n",
        "test_mae_score"
      ],
      "execution_count": null,
      "outputs": [
        {
          "output_type": "stream",
          "text": [
            "3/3 [==============================] - 0s 2ms/step - loss: 8.8462 - mae: 2.0299\n"
          ],
          "name": "stdout"
        },
        {
          "output_type": "execute_result",
          "data": {
            "text/plain": [
              "2.0299084186553955"
            ]
          },
          "metadata": {
            "tags": []
          },
          "execution_count": 105
        }
      ]
    }
  ]
}